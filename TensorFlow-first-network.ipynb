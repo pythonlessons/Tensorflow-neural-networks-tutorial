{
 "cells": [
  {
   "cell_type": "markdown",
   "metadata": {},
   "source": [
    "# Building our first neural network in tensorflow\n",
    "\n",
    "In this tutorial part we will build a deep neural network using tensorflow. \n",
    "\n",
    "- Create the computation graph\n",
    "- Run the graph"
   ]
  },
  {
   "cell_type": "code",
   "execution_count": 1,
   "metadata": {},
   "outputs": [],
   "source": [
    "import os\n",
    "os.environ['CUDA_VISIBLE_DEVICES'] = '0'\n",
    "import cv2\n",
    "import math\n",
    "import numpy as np\n",
    "import matplotlib.pyplot as plt\n",
    "import tensorflow as tf"
   ]
  },
  {
   "cell_type": "code",
   "execution_count": 2,
   "metadata": {},
   "outputs": [],
   "source": [
    "ROWS = 64\n",
    "COLS = 64\n",
    "CHANNELS = 3\n",
    "CLASSES = 2"
   ]
  },
  {
   "cell_type": "code",
   "execution_count": 3,
   "metadata": {},
   "outputs": [],
   "source": [
    "def read_image(file_path):\n",
    "    img = cv2.imread(file_path, cv2.IMREAD_COLOR)\n",
    "    return cv2.resize(img, (ROWS, COLS), interpolation=cv2.INTER_CUBIC)\n",
    "\n",
    "def prepare_data(images):\n",
    "    m = len(images)\n",
    "    X = np.zeros((m, ROWS, COLS, CHANNELS), dtype=np.uint8)\n",
    "    y = np.zeros((1, m), dtype=np.uint8)\n",
    "    for i, image_file in enumerate(images):\n",
    "        X[i,:] = read_image(image_file)\n",
    "        if 'dog' in image_file.lower():\n",
    "            y[0, i] = 1\n",
    "        elif 'cat' in image_file.lower():\n",
    "            y[0, i] = 0\n",
    "    return X, y\n",
    "\n",
    "def convert_to_one_hot(Y, C):\n",
    "    Y = np.eye(C)[Y.reshape(-1)].T\n",
    "    return Y"
   ]
  },
  {
   "cell_type": "code",
   "execution_count": 4,
   "metadata": {},
   "outputs": [],
   "source": [
    "TRAIN_DIR = 'Train_data/'\n",
    "TEST_DIR = 'Test_data/'\n",
    "\n",
    "train_images = [TRAIN_DIR+i for i in os.listdir(TRAIN_DIR)]\n",
    "test_images =  [TEST_DIR+i for i in os.listdir(TEST_DIR)]\n",
    "\n",
    "train_set_x, train_set_y = prepare_data(train_images)\n",
    "test_set_x, test_set_y = prepare_data(test_images)\n",
    "\n",
    "train_set_x_flatten = train_set_x.reshape(train_set_x.shape[0], ROWS*COLS*CHANNELS).T\n",
    "test_set_x_flatten = test_set_x.reshape(test_set_x.shape[0], -1).T\n",
    "\n",
    "X_train = train_set_x_flatten/255\n",
    "X_test = test_set_x_flatten/255\n",
    "\n",
    "Y_train = convert_to_one_hot(train_set_y, CLASSES)\n",
    "Y_test = convert_to_one_hot(test_set_y, CLASSES)"
   ]
  },
  {
   "cell_type": "markdown",
   "metadata": {},
   "source": [
    "As usual we flatten the image dataset, then normalize it by dividing by 255. On top of that, we will convert each label to a one-hot vector."
   ]
  },
  {
   "cell_type": "code",
   "execution_count": 5,
   "metadata": {},
   "outputs": [
    {
     "name": "stdout",
     "output_type": "stream",
     "text": [
      "number of training examples = 6002\n",
      "number of test examples = 1000\n",
      "X_train shape: (12288, 6002)\n",
      "Y_train shape: (2, 6002)\n",
      "X_test shape: (12288, 1000)\n",
      "Y_test shape: (2, 1000)\n"
     ]
    }
   ],
   "source": [
    "print (\"number of training examples =\", X_train.shape[1])\n",
    "print (\"number of test examples =\", X_test.shape[1])\n",
    "print (\"X_train shape:\", X_train.shape)\n",
    "print (\"Y_train shape:\", Y_train.shape)\n",
    "print (\"X_test shape:\", X_test.shape)\n",
    "print (\"Y_test shape:\", Y_test.shape)"
   ]
  },
  {
   "cell_type": "markdown",
   "metadata": {},
   "source": [
    "**Our goal** is to build an algorithm capable of recognizing a cat and dog with high accuracy. To do so, we are going to build a tensorflow model that is almost the same as one we have previously built in numpy for cat recognition (but now using a softmax output)."
   ]
  },
  {
   "cell_type": "markdown",
   "metadata": {},
   "source": [
    "## 1 - Create placeholders\n",
    "\n",
    "Our first task is to create placeholders for `X` and `Y`. \n",
    "\n",
    "**Arguments**:<br>\n",
    "n_x - scalar, size of an image vector (num_px * num_px = ROWS * COLS * CHANNELS = 12288)<br>\n",
    "n_y - scalar, number of classes (from 0 to 1, so -> 2)<br>\n",
    "\n",
    "**Returns**:<br>\n",
    "X - placeholder for the data input, of shape [n_x, None] and dtype \"float\"<br>\n",
    "Y - placeholder for the input labels, of shape [n_y, None] and dtype \"float\"<br>"
   ]
  },
  {
   "cell_type": "code",
   "execution_count": 6,
   "metadata": {},
   "outputs": [],
   "source": [
    "def create_placeholders(n_x, n_y):\n",
    "\n",
    "    X = tf.placeholder(tf.float32, shape=(n_x, None), name = 'X')\n",
    "    Y = tf.placeholder(tf.float32, shape=(n_y, None), name = 'Y')\n",
    "    \n",
    "    return X, Y"
   ]
  },
  {
   "cell_type": "code",
   "execution_count": 7,
   "metadata": {},
   "outputs": [
    {
     "name": "stdout",
     "output_type": "stream",
     "text": [
      "X = Tensor(\"X:0\", shape=(12288, ?), dtype=float32)\n",
      "Y = Tensor(\"Y:0\", shape=(2, ?), dtype=float32)\n"
     ]
    }
   ],
   "source": [
    "X, Y = create_placeholders(X_train.shape[0], CLASSES)\n",
    "print (\"X = \" + str(X))\n",
    "print (\"Y = \" + str(Y))"
   ]
  },
  {
   "cell_type": "markdown",
   "metadata": {},
   "source": [
    "## 2 - Initializing the parameters\n",
    "\n",
    "**Arguments**:<br>\n",
    "INPUT, h1, h2, OUTPUT - size of model layers<br>\n",
    "\n",
    "**Returns**:<br>\n",
    "parameters - a dictionary of tensors containing W1, b1, W2, b2, W3, b3<br>"
   ]
  },
  {
   "cell_type": "code",
   "execution_count": 8,
   "metadata": {},
   "outputs": [],
   "source": [
    "def initialize_parameters(INPUT, h1, h2, OUTPUT):\n",
    "    W1 = tf.get_variable(\"W1\", [h1, INPUT], initializer = tf.contrib.layers.xavier_initializer())\n",
    "    b1 = tf.get_variable(\"b1\", [h1, 1], initializer = tf.zeros_initializer())\n",
    "    W2 = tf.get_variable(\"W2\", [h2, h1], initializer = tf.contrib.layers.xavier_initializer())\n",
    "    b2 = tf.get_variable(\"b2\", [h2, 1], initializer = tf.zeros_initializer())\n",
    "    W3 = tf.get_variable(\"W3\", [OUTPUT, h2], initializer = tf.contrib.layers.xavier_initializer())\n",
    "    b3 = tf.get_variable(\"b3\", [OUTPUT, 1], initializer = tf.zeros_initializer())\n",
    " \n",
    "\n",
    "    parameters = {\"W1\": W1,\n",
    "                  \"b1\": b1,\n",
    "                  \"W2\": W2,\n",
    "                  \"b2\": b2,\n",
    "                  \"W3\": W3,\n",
    "                  \"b3\": b3}\n",
    "    \n",
    "    return parameters"
   ]
  },
  {
   "cell_type": "code",
   "execution_count": 10,
   "metadata": {},
   "outputs": [
    {
     "name": "stdout",
     "output_type": "stream",
     "text": [
      "W1 =  <tf.Variable 'W1:0' shape=(25, 12288) dtype=float32_ref>\n",
      "b1 =  <tf.Variable 'b1:0' shape=(25, 1) dtype=float32_ref>\n",
      "W2 =  <tf.Variable 'W2:0' shape=(12, 25) dtype=float32_ref>\n",
      "b2 =  <tf.Variable 'b2:0' shape=(12, 1) dtype=float32_ref>\n",
      "W3 =  <tf.Variable 'W3:0' shape=(2, 12) dtype=float32_ref>\n",
      "b3 =  <tf.Variable 'b3:0' shape=(2, 1) dtype=float32_ref>\n"
     ]
    }
   ],
   "source": [
    "tf.reset_default_graph()\n",
    "with tf.Session() as sess:\n",
    "    parameters = initialize_parameters(X_train.shape[0], 25, 12, CLASSES)\n",
    "    print(\"W1 = \", parameters[\"W1\"])\n",
    "    print(\"b1 = \", parameters[\"b1\"])\n",
    "    print(\"W2 = \", parameters[\"W2\"])\n",
    "    print(\"b2 = \", parameters[\"b2\"])\n",
    "    print(\"W3 = \", parameters[\"W3\"])\n",
    "    print(\"b3 = \", parameters[\"b3\"])"
   ]
  },
  {
   "cell_type": "markdown",
   "metadata": {},
   "source": [
    "## 3 - Forward propagation in tensorflow \n",
    "\n",
    "The functions we will be using are: \n",
    "\n",
    "- `tf.add(...,...)` to do an addition\n",
    "- `tf.matmul(...,...)` to do a matrix multiplication\n",
    "- `tf.nn.relu(...)` to apply the ReLU activation\n",
    "\n",
    "**Arguments**:<br>\n",
    "X - input dataset placeholder, of shape (input size, number of examples)<br>\n",
    "parameters - python dictionary containing our parameters \"W1\", \"b1\", \"W2\", \"b2\", \"W3\", \"b3\" the shapes are given in initialize_parameters<br>\n",
    "\n",
    "**Returns**:<br>\n",
    "Z3 - the output of the last LINEAR unit<br>"
   ]
  },
  {
   "cell_type": "code",
   "execution_count": 11,
   "metadata": {},
   "outputs": [],
   "source": [
    "def forward_propagation(X, parameters):\n",
    "    # Retrieving parameters from the dictionary \"parameters\" \n",
    "    W1 = parameters['W1']\n",
    "    b1 = parameters['b1']\n",
    "    W2 = parameters['W2']\n",
    "    b2 = parameters['b2']\n",
    "    W3 = parameters['W3']\n",
    "    b3 = parameters['b3']\n",
    "\n",
    "                                      # Numpy Equivalents:\n",
    "    Z1 = tf.add(tf.matmul(W1,X),b1)   # Z1 = np.dot(W1, X) + b1\n",
    "    A1 = tf.nn.relu(Z1)               # A1 = relu(Z1)\n",
    "    Z2 = tf.add(tf.matmul(W2,A1),b2)  # Z2 = np.dot(W2, a1) + b2\n",
    "    A2 = tf.nn.relu(Z2)               # A2 = relu(Z2)\n",
    "    Z3 = tf.add(tf.matmul(W3,A2),b3)  # Z3 = np.dot(W3,Z2) + b3\n",
    "\n",
    "    return Z3"
   ]
  },
  {
   "cell_type": "code",
   "execution_count": 12,
   "metadata": {},
   "outputs": [
    {
     "name": "stdout",
     "output_type": "stream",
     "text": [
      "Z3 = Tensor(\"Add_2:0\", shape=(2, ?), dtype=float32)\n"
     ]
    }
   ],
   "source": [
    "tf.reset_default_graph()\n",
    "\n",
    "with tf.Session() as sess:\n",
    "    X, Y = create_placeholders(X_train.shape[0], CLASSES)\n",
    "    parameters = initialize_parameters(X_train.shape[0], 25, 12, CLASSES)\n",
    "    Z3 = forward_propagation(X, parameters)\n",
    "    print(\"Z3 =\", Z3)"
   ]
  },
  {
   "cell_type": "markdown",
   "metadata": {},
   "source": [
    "## 4 Compute cost\n",
    "\n",
    "As seen before, it is very easy to compute the cost using:\n",
    "```python\n",
    "tf.reduce_mean(tf.nn.softmax_cross_entropy_with_logits(logits = ..., labels = ...))\n",
    "```\n",
    "**Note**: \n",
    "- It is important to know that the \"`logits`\" and \"`labels`\" inputs of `tf.nn.softmax_cross_entropy_with_logits` are expected to be of shape (number of examples, num_classes) so I have transposed Z3 and Y for you.\n",
    "- Besides, `tf.reduce_mean` basically does the summation over the examples.\n",
    "\n",
    "**Arguments**:<br>\n",
    "Z3 - output of forward propagation (output of the last LINEAR unit), of shape (CLASSES, number of examples)<br>\n",
    "Y - \"true\" labels vector placeholder, same shape as Z3<br>\n",
    "\n",
    "**Returns**:<br>\n",
    "cost - Tensor of the cost function<br>"
   ]
  },
  {
   "cell_type": "code",
   "execution_count": 13,
   "metadata": {},
   "outputs": [],
   "source": [
    "def compute_cost(Z3, Y):   \n",
    "    # fit the tensorflow requirement for tf.nn.softmax_cross_entropy_with_logits(...,...)\n",
    "    logits = tf.transpose(Z3)\n",
    "    labels = tf.transpose(Y)\n",
    "    \n",
    "    cost = tf.reduce_mean(tf.nn.softmax_cross_entropy_with_logits(logits = logits, labels = labels))\n",
    "    \n",
    "    return cost"
   ]
  },
  {
   "cell_type": "code",
   "execution_count": 15,
   "metadata": {},
   "outputs": [
    {
     "name": "stdout",
     "output_type": "stream",
     "text": [
      "cost = Tensor(\"Mean:0\", shape=(), dtype=float32)\n"
     ]
    }
   ],
   "source": [
    "tf.reset_default_graph()\n",
    "\n",
    "with tf.Session() as sess:\n",
    "    X, Y = create_placeholders(X_train.shape[0], CLASSES)\n",
    "    parameters = initialize_parameters(X_train.shape[0], 25, 12, CLASSES)\n",
    "    Z3 = forward_propagation(X, parameters)\n",
    "    cost = compute_cost(Z3, Y)\n",
    "    print(\"cost =\",cost)"
   ]
  },
  {
   "cell_type": "markdown",
   "metadata": {},
   "source": [
    "## 5 - Mini-Batch Gradient descent\n",
    "\n",
    "Let's build mini-batches from the training set (X, Y) in two steps:\n",
    "\n",
    "- **Shuffle**: \n",
    "\n",
    "<img src=\"images/shuffle.png\" style=\"width:550px;height:300px;\">\n",
    "\n",
    "- **Partition**:\n",
    "\n",
    "<img src=\"images/partition.png\" style=\"width:550px;height:300px;\"> \n",
    "\n",
    "**Arguments**:<br>\n",
    "X - input data, of shape (input size, number of examples)<br>\n",
    "Y - true \"label\" vector (containing 0 if cat, 1 if non-cat), of shape (1, number of examples)<br>\n",
    "mini_batch_size - size of the mini-batches, integer<br>\n",
    "seed - this is only for the purpose of grading, so that you're \"random minibatches are the same as ours.<br>\n",
    "\n",
    "**Returns**:<br>\n",
    "mini_batches - list of synchronous (mini_batch_X, mini_batch_Y)<br>"
   ]
  },
  {
   "cell_type": "code",
   "execution_count": 16,
   "metadata": {},
   "outputs": [],
   "source": [
    "def random_mini_batches(X, Y, mini_batch_size = 64):   \n",
    "    # number of training examples\n",
    "    m = X.shape[1]\n",
    "    mini_batches = []\n",
    "    \n",
    "    # Step 1: Shuffle (X, Y)\n",
    "    permutation = list(np.random.permutation(m))\n",
    "    shuffled_X = X[:, permutation]\n",
    "    shuffled_Y = Y[:, permutation].reshape((Y.shape[0],m))\n",
    "\n",
    "    # Step 2: Partition (shuffled_X, shuffled_Y). Minus the end case.\n",
    "    # number of mini batches of size mini_batch_size in your partitionning\n",
    "    num_complete_minibatches = math.floor(m/mini_batch_size)\n",
    "    for k in range(0, num_complete_minibatches):\n",
    "        mini_batch_X = shuffled_X[:, k * mini_batch_size : k * mini_batch_size + mini_batch_size]\n",
    "        mini_batch_Y = shuffled_Y[:, k * mini_batch_size : k * mini_batch_size + mini_batch_size]\n",
    "        mini_batch = (mini_batch_X, mini_batch_Y)\n",
    "        mini_batches.append(mini_batch)\n",
    "    \n",
    "    # Handling the end case (last mini-batch < mini_batch_size)\n",
    "    if m % mini_batch_size != 0:\n",
    "        mini_batch_X = shuffled_X[:, num_complete_minibatches * mini_batch_size : m]\n",
    "        mini_batch_Y = shuffled_Y[:, num_complete_minibatches * mini_batch_size : m]\n",
    "        mini_batch = (mini_batch_X, mini_batch_Y)\n",
    "        mini_batches.append(mini_batch)\n",
    "    \n",
    "    return mini_batches"
   ]
  },
  {
   "cell_type": "code",
   "execution_count": 17,
   "metadata": {},
   "outputs": [
    {
     "name": "stdout",
     "output_type": "stream",
     "text": [
      "shape of the 1st mini_batch_X: (12288, 64)\n",
      "shape of the 1st mini_batch_Y: (2, 64)\n",
      "94\n"
     ]
    }
   ],
   "source": [
    "mini_batches = random_mini_batches(X_train, Y_train, 64)\n",
    "\n",
    "print (\"shape of the 1st mini_batch_X:\", mini_batches[0][0].shape)\n",
    "print (\"shape of the 1st mini_batch_Y:\", mini_batches[0][1].shape)\n",
    "print(len(mini_batches))"
   ]
  },
  {
   "cell_type": "markdown",
   "metadata": {},
   "source": [
    "**What we should remember**:\n",
    "- Shuffling and Partitioning are the two steps required to build mini-batches\n",
    "- Powers of two are often chosen to be the mini-batch size, e.g., 16, 32, 64, 128."
   ]
  },
  {
   "cell_type": "markdown",
   "metadata": {},
   "source": [
    "## 6 - Backward propagation & parameter updates\n",
    "\n",
    "For instance, for gradient descent the optimizer would be:\n",
    "```python\n",
    "optimizer = tf.train.GradientDescentOptimizer(learning_rate = learning_rate).minimize(cost)\n",
    "```\n",
    "\n",
    "To make the optimization we would do:\n",
    "```python\n",
    "_ , c = sess.run([optimizer, cost], feed_dict={X: minibatch_X, Y: minibatch_Y})\n",
    "```"
   ]
  },
  {
   "cell_type": "markdown",
   "metadata": {},
   "source": [
    "## 7 - Building the model\n",
    "\n",
    "So we'll implement a three-layer tensorflow neural network: LINEAR->RELU->LINEAR->RELU->LINEAR->SOFTMAX.\n",
    "\n",
    "**Arguments**:<br>\n",
    "    X_train - training set, of shape (input size, number of training examples)<br>\n",
    "    Y_train - test set, of shape (output size = CLASSES, number of training examples)<br>\n",
    "    X_test - training set, of shape (input size, number of training examples)<br>\n",
    "    Y_test - test set, of shape (output size = CLASSES, number of test examples)<br>\n",
    "    learning_rate - learning rate of the optimization<br>\n",
    "    num_epochs - number of epochs of the optimization loop<br>\n",
    "    minibatch_size - size of a minibatch<br>\n",
    "    print_cost - True to print the cost every 100 epochs<br>\n",
    "\n",
    "**Returns**:<br>\n",
    "    parameters - parameters learnt by the model. They can then be used to predict.<br>"
   ]
  },
  {
   "cell_type": "code",
   "execution_count": 19,
   "metadata": {},
   "outputs": [],
   "source": [
    "# delete the current graph\n",
    "tf.reset_default_graph()\n",
    "\n",
    "def model(X_train, Y_train, X_test, Y_test, learning_rate = 0.0001,\n",
    "          num_epochs = 1000, minibatch_size = 64, print_cost = True):\n",
    "    \n",
    "\n",
    "    # (n_x: input size, m : number of examples in the train set)\n",
    "    (n_x, m) = X_train.shape                        \n",
    "    # n_y : output size\n",
    "    n_y = Y_train.shape[0]                        \n",
    "    # To keep track of the cost\n",
    "    costs = []                                        \n",
    "    \n",
    "    # Create Placeholders of shape (n_x, n_y)\n",
    "    X, Y = create_placeholders(n_x, n_y)\n",
    "\n",
    "    # Initialize parameters\n",
    "    parameters = initialize_parameters(X_train.shape[0], 200, 20, CLASSES)\n",
    "    \n",
    "    # Forward propagation: Build the forward propagation in the tensorflow graph\n",
    "    Z3 = forward_propagation(X, parameters)\n",
    "    \n",
    "    # Cost function: Add cost function to tensorflow graph\n",
    "    cost = compute_cost(Z3, Y)\n",
    "    \n",
    "    # Backpropagation: Define the tensorflow optimizer. Use an AdamOptimizer.\n",
    "    optimizer = tf.train.AdamOptimizer(learning_rate = learning_rate).minimize(cost)\n",
    "    \n",
    "    # Initialize all the variables\n",
    "    init = tf.global_variables_initializer()\n",
    "    \n",
    "    # Start the session to compute the tensorflow graph\n",
    "    with tf.Session() as sess:\n",
    "        \n",
    "        # Run the initialization\n",
    "        sess.run(init)\n",
    "        \n",
    "        # Do the training loop\n",
    "        # for epoch in range(num_epochs): #Remove problem for loop\n",
    "        epoch = 0                   #My While loop setup\n",
    "        while epoch < num_epochs:   #My While loop setup\n",
    "            epoch = epoch + 1       #My While loop setup\n",
    "            epoch_cost = 0.         # Defines a cost related to an epoch\n",
    "            # number of minibatches of size minibatch_size in the train set\n",
    "            num_minibatches = int(m / minibatch_size)\n",
    "            # seed = seed + 1\n",
    "            minibatches = random_mini_batches(X_train, Y_train, minibatch_size)\n",
    "\n",
    "            for minibatch in minibatches:\n",
    "                # Select a minibatch\n",
    "                (minibatch_X, minibatch_Y) = minibatch\n",
    "            \n",
    "                # IMPORTANT: The line that runs the graph on a minibatch.\n",
    "                # Run the session to execute the \"optimizer\" and the \"cost\", the feedict should contain a minibatch for (X,Y).\n",
    "                _ , minibatch_cost = sess.run([optimizer, cost], feed_dict={X: minibatch_X, Y: minibatch_Y})\n",
    "                \n",
    "                epoch_cost += minibatch_cost / num_minibatches\n",
    "\n",
    "            # Print the cost every epoch\n",
    "            if print_cost == True and epoch == 0:\n",
    "                print (\"Cost after epoch %i: %f\" % (epoch, epoch_cost))\n",
    "            if print_cost == True and epoch % 100 == 0:\n",
    "                print (\"Cost after epoch %i: %f\" % (epoch, epoch_cost))\n",
    "            if print_cost == True and epoch % 5 == 0:\n",
    "                costs.append(epoch_cost)\n",
    "        \n",
    "        # plot the cost\n",
    "        plt.plot(np.squeeze(costs))\n",
    "        plt.ylabel('cost')\n",
    "        plt.xlabel('iterations (per tens)')\n",
    "        plt.title(\"Learning rate =\" + str(learning_rate))\n",
    "        plt.show()\n",
    "\n",
    "        # lets save the parameters in a variable\n",
    "        parameters = sess.run(parameters)\n",
    "        print (\"Parameters have been trained!\")\n",
    "\n",
    "        # Calculate the correct predictions\n",
    "        correct_prediction = tf.equal(tf.argmax(Z3), tf.argmax(Y))\n",
    "\n",
    "        # Calculate accuracy on the test set\n",
    "        accuracy = tf.reduce_mean(tf.cast(correct_prediction, \"float\"))\n",
    "\n",
    "        print (\"Train Accuracy:\", accuracy.eval({X: X_train, Y: Y_train}))\n",
    "        print (\"Test Accuracy:\", accuracy.eval({X: X_test, Y: Y_test}))\n",
    "        \n",
    "        # Save our trained model\n",
    "        saver = tf.train.Saver()\n",
    "        saver.save(sess, './TensorFlow-first-network')\n",
    "        \n",
    "        return parameters"
   ]
  },
  {
   "cell_type": "markdown",
   "metadata": {},
   "source": [
    "Run the following cell to train our model. On my machine it takes about 15 minutes, with GPU:"
   ]
  },
  {
   "cell_type": "code",
   "execution_count": 20,
   "metadata": {},
   "outputs": [
    {
     "name": "stdout",
     "output_type": "stream",
     "text": [
      "Cost after epoch 100: 0.149014\n",
      "Cost after epoch 200: 0.007334\n",
      "Cost after epoch 300: 0.002902\n",
      "Cost after epoch 400: 0.000667\n",
      "Cost after epoch 500: 0.004335\n",
      "Cost after epoch 600: 0.001176\n",
      "Cost after epoch 700: 0.001851\n",
      "Cost after epoch 800: 0.000289\n",
      "Cost after epoch 900: 0.001448\n",
      "Cost after epoch 1000: 0.000860\n"
     ]
    },
    {
     "data": {
      "image/png": "[encoded data removed]",
      "text/plain": [
       "<Figure size 432x288 with 1 Axes>"
      ]
     },
     "metadata": {
      "needs_background": "light"
     },
     "output_type": "display_data"
    },
    {
     "name": "stdout",
     "output_type": "stream",
     "text": [
      "Parameters have been trained!\n",
      "Train Accuracy: 1.0\n",
      "Test Accuracy: 0.592\n"
     ]
    }
   ],
   "source": [
    "parameters = model(X_train, Y_train, X_test, Y_test)"
   ]
  },
  {
   "cell_type": "markdown",
   "metadata": {},
   "source": [
    "## 8 - Test with your own image\n",
    "\n",
    "We can now take a picture of our cat or dog and see the output of our model. To do that:"
   ]
  },
  {
   "cell_type": "code",
   "execution_count": 31,
   "metadata": {},
   "outputs": [],
   "source": [
    "#test_image = \"cat.jpg\"\n",
    "test_image = \"dog.jpg\"\n",
    "my_image = read_image(test_image).reshape(1, ROWS*COLS*CHANNELS).T\n",
    "X = my_image / 255.\n",
    "#print(X.shape)"
   ]
  },
  {
   "cell_type": "markdown",
   "metadata": {},
   "source": [
    "Bellow we use predict function to predict Cat vs Dog from our X image:"
   ]
  },
  {
   "cell_type": "code",
   "execution_count": 22,
   "metadata": {},
   "outputs": [],
   "source": [
    "def predict(X, parameters):\n",
    "    \n",
    "    W1 = tf.convert_to_tensor(parameters[\"W1\"])\n",
    "    b1 = tf.convert_to_tensor(parameters[\"b1\"])\n",
    "    W2 = tf.convert_to_tensor(parameters[\"W2\"])\n",
    "    b2 = tf.convert_to_tensor(parameters[\"b2\"])\n",
    "    W3 = tf.convert_to_tensor(parameters[\"W3\"])\n",
    "    b3 = tf.convert_to_tensor(parameters[\"b3\"])\n",
    "    \n",
    "    params = {\"W1\": W1,\n",
    "              \"b1\": b1,\n",
    "              \"W2\": W2,\n",
    "              \"b2\": b2,\n",
    "              \"W3\": W3,\n",
    "              \"b3\": b3}\n",
    "    \n",
    "    x = tf.placeholder(\"float\", [X.shape[0], 1])\n",
    "    \n",
    "    z3 = forward_propagation(x, params)\n",
    "    p = tf.argmax(z3)\n",
    "    \n",
    "    sess = tf.Session()\n",
    "    prediction = sess.run(p, feed_dict = {x: X})\n",
    "        \n",
    "    return str(np.squeeze(prediction))"
   ]
  },
  {
   "cell_type": "code",
   "execution_count": 25,
   "metadata": {},
   "outputs": [
    {
     "data": {
      "text/plain": [
       "'0'"
      ]
     },
     "execution_count": 25,
     "metadata": {},
     "output_type": "execute_result"
    }
   ],
   "source": [
    "predict(X, parameters)"
   ]
  },
  {
   "cell_type": "markdown",
   "metadata": {},
   "source": [
    "## 9 - Restore the graph from .meta file\n",
    "\n",
    "When we save the variables, it creates a .meta file. This file contains the graph structure. Therefore, we can import the meta graph `using tf.train.import_meta_graph()` and restore the values of the graph. Let's import the graph and print all tensors in the graph:"
   ]
  },
  {
   "cell_type": "code",
   "execution_count": 26,
   "metadata": {},
   "outputs": [
    {
     "name": "stdout",
     "output_type": "stream",
     "text": [
      "X\n",
      "Y\n",
      "W1/Initializer/random_uniform/shape\n",
      "W1/Initializer/random_uniform/min\n",
      "W1/Initializer/random_uniform/max\n",
      "W1/Initializer/random_uniform/RandomUniform\n",
      "W1/Initializer/random_uniform/sub\n",
      "W1/Initializer/random_uniform/mul\n",
      "W1/Initializer/random_uniform\n",
      "W1\n",
      "W1/Assign\n",
      "W1/read\n",
      "b1/Initializer/zeros\n",
      "b1\n",
      "b1/Assign\n",
      "b1/read\n",
      "W2/Initializer/random_uniform/shape\n",
      "W2/Initializer/random_uniform/min\n",
      "W2/Initializer/random_uniform/max\n",
      "W2/Initializer/random_uniform/RandomUniform\n",
      "W2/Initializer/random_uniform/sub\n",
      "W2/Initializer/random_uniform/mul\n",
      "W2/Initializer/random_uniform\n",
      "W2\n",
      "W2/Assign\n",
      "W2/read\n",
      "b2/Initializer/zeros\n",
      "b2\n",
      "b2/Assign\n",
      "b2/read\n",
      "W3/Initializer/random_uniform/shape\n",
      "W3/Initializer/random_uniform/min\n",
      "W3/Initializer/random_uniform/max\n",
      "W3/Initializer/random_uniform/RandomUniform\n",
      "W3/Initializer/random_uniform/sub\n",
      "W3/Initializer/random_uniform/mul\n",
      "W3/Initializer/random_uniform\n",
      "W3\n",
      "W3/Assign\n",
      "W3/read\n",
      "b3/Initializer/zeros\n",
      "b3\n",
      "b3/Assign\n",
      "b3/read\n",
      "MatMul\n",
      "Add\n",
      "Relu\n",
      "MatMul_1\n",
      "Add_1\n",
      "Relu_1\n",
      "MatMul_2\n",
      "Add_2\n",
      "transpose/perm\n",
      "transpose\n",
      "transpose_1/perm\n",
      "transpose_1\n",
      "softmax_cross_entropy_with_logits_sg/labels_stop_gradient\n",
      "softmax_cross_entropy_with_logits_sg/Rank\n",
      "softmax_cross_entropy_with_logits_sg/Shape\n",
      "softmax_cross_entropy_with_logits_sg/Rank_1\n",
      "softmax_cross_entropy_with_logits_sg/Shape_1\n",
      "softmax_cross_entropy_with_logits_sg/Sub/y\n",
      "softmax_cross_entropy_with_logits_sg/Sub\n",
      "softmax_cross_entropy_with_logits_sg/Slice/begin\n",
      "softmax_cross_entropy_with_logits_sg/Slice/size\n",
      "softmax_cross_entropy_with_logits_sg/Slice\n",
      "softmax_cross_entropy_with_logits_sg/concat/values_0\n",
      "softmax_cross_entropy_with_logits_sg/concat/axis\n",
      "softmax_cross_entropy_with_logits_sg/concat\n",
      "softmax_cross_entropy_with_logits_sg/Reshape\n",
      "softmax_cross_entropy_with_logits_sg/Rank_2\n",
      "softmax_cross_entropy_with_logits_sg/Shape_2\n",
      "softmax_cross_entropy_with_logits_sg/Sub_1/y\n",
      "softmax_cross_entropy_with_logits_sg/Sub_1\n",
      "softmax_cross_entropy_with_logits_sg/Slice_1/begin\n",
      "softmax_cross_entropy_with_logits_sg/Slice_1/size\n",
      "softmax_cross_entropy_with_logits_sg/Slice_1\n",
      "softmax_cross_entropy_with_logits_sg/concat_1/values_0\n",
      "softmax_cross_entropy_with_logits_sg/concat_1/axis\n",
      "softmax_cross_entropy_with_logits_sg/concat_1\n",
      "softmax_cross_entropy_with_logits_sg/Reshape_1\n",
      "softmax_cross_entropy_with_logits_sg\n",
      "softmax_cross_entropy_with_logits_sg/Sub_2/y\n",
      "softmax_cross_entropy_with_logits_sg/Sub_2\n",
      "softmax_cross_entropy_with_logits_sg/Slice_2/begin\n",
      "softmax_cross_entropy_with_logits_sg/Slice_2/size\n",
      "softmax_cross_entropy_with_logits_sg/Slice_2\n",
      "softmax_cross_entropy_with_logits_sg/Reshape_2\n",
      "Const\n",
      "Mean\n",
      "gradients/Shape\n",
      "gradients/grad_ys_0\n",
      "gradients/Fill\n",
      "gradients/Mean_grad/Reshape/shape\n",
      "gradients/Mean_grad/Reshape\n",
      "gradients/Mean_grad/Shape\n",
      "gradients/Mean_grad/Tile\n",
      "gradients/Mean_grad/Shape_1\n",
      "gradients/Mean_grad/Shape_2\n",
      "gradients/Mean_grad/Const\n",
      "gradients/Mean_grad/Prod\n",
      "gradients/Mean_grad/Const_1\n",
      "gradients/Mean_grad/Prod_1\n",
      "gradients/Mean_grad/Maximum/y\n",
      "gradients/Mean_grad/Maximum\n",
      "gradients/Mean_grad/floordiv\n",
      "gradients/Mean_grad/Cast\n",
      "gradients/Mean_grad/truediv\n",
      "gradients/softmax_cross_entropy_with_logits_sg/Reshape_2_grad/Shape\n",
      "gradients/softmax_cross_entropy_with_logits_sg/Reshape_2_grad/Reshape\n",
      "gradients/zeros_like\n",
      "gradients/softmax_cross_entropy_with_logits_sg_grad/ExpandDims/dim\n",
      "gradients/softmax_cross_entropy_with_logits_sg_grad/ExpandDims\n",
      "gradients/softmax_cross_entropy_with_logits_sg_grad/mul\n",
      "gradients/softmax_cross_entropy_with_logits_sg_grad/LogSoftmax\n",
      "gradients/softmax_cross_entropy_with_logits_sg_grad/Neg\n",
      "gradients/softmax_cross_entropy_with_logits_sg_grad/ExpandDims_1/dim\n",
      "gradients/softmax_cross_entropy_with_logits_sg_grad/ExpandDims_1\n",
      "gradients/softmax_cross_entropy_with_logits_sg_grad/mul_1\n",
      "gradients/softmax_cross_entropy_with_logits_sg_grad/tuple/group_deps\n",
      "gradients/softmax_cross_entropy_with_logits_sg_grad/tuple/control_dependency\n",
      "gradients/softmax_cross_entropy_with_logits_sg_grad/tuple/control_dependency_1\n",
      "gradients/softmax_cross_entropy_with_logits_sg/Reshape_grad/Shape\n",
      "gradients/softmax_cross_entropy_with_logits_sg/Reshape_grad/Reshape\n",
      "gradients/transpose_grad/InvertPermutation\n",
      "gradients/transpose_grad/transpose\n",
      "gradients/Add_2_grad/Shape\n",
      "gradients/Add_2_grad/Shape_1\n",
      "gradients/Add_2_grad/BroadcastGradientArgs\n",
      "gradients/Add_2_grad/Sum\n",
      "gradients/Add_2_grad/Reshape\n",
      "gradients/Add_2_grad/Sum_1\n",
      "gradients/Add_2_grad/Reshape_1\n",
      "gradients/Add_2_grad/tuple/group_deps\n",
      "gradients/Add_2_grad/tuple/control_dependency\n",
      "gradients/Add_2_grad/tuple/control_dependency_1\n",
      "gradients/MatMul_2_grad/MatMul\n",
      "gradients/MatMul_2_grad/MatMul_1\n",
      "gradients/MatMul_2_grad/tuple/group_deps\n",
      "gradients/MatMul_2_grad/tuple/control_dependency\n",
      "gradients/MatMul_2_grad/tuple/control_dependency_1\n",
      "gradients/Relu_1_grad/ReluGrad\n",
      "gradients/Add_1_grad/Shape\n",
      "gradients/Add_1_grad/Shape_1\n",
      "gradients/Add_1_grad/BroadcastGradientArgs\n",
      "gradients/Add_1_grad/Sum\n",
      "gradients/Add_1_grad/Reshape\n",
      "gradients/Add_1_grad/Sum_1\n",
      "gradients/Add_1_grad/Reshape_1\n",
      "gradients/Add_1_grad/tuple/group_deps\n",
      "gradients/Add_1_grad/tuple/control_dependency\n",
      "gradients/Add_1_grad/tuple/control_dependency_1\n",
      "gradients/MatMul_1_grad/MatMul\n",
      "gradients/MatMul_1_grad/MatMul_1\n",
      "gradients/MatMul_1_grad/tuple/group_deps\n",
      "gradients/MatMul_1_grad/tuple/control_dependency\n",
      "gradients/MatMul_1_grad/tuple/control_dependency_1\n",
      "gradients/Relu_grad/ReluGrad\n",
      "gradients/Add_grad/Shape\n",
      "gradients/Add_grad/Shape_1\n",
      "gradients/Add_grad/BroadcastGradientArgs\n",
      "gradients/Add_grad/Sum\n",
      "gradients/Add_grad/Reshape\n",
      "gradients/Add_grad/Sum_1\n",
      "gradients/Add_grad/Reshape_1\n",
      "gradients/Add_grad/tuple/group_deps\n",
      "gradients/Add_grad/tuple/control_dependency\n",
      "gradients/Add_grad/tuple/control_dependency_1\n",
      "gradients/MatMul_grad/MatMul\n",
      "gradients/MatMul_grad/MatMul_1\n",
      "gradients/MatMul_grad/tuple/group_deps\n",
      "gradients/MatMul_grad/tuple/control_dependency\n",
      "gradients/MatMul_grad/tuple/control_dependency_1\n",
      "beta1_power/initial_value\n",
      "beta1_power\n",
      "beta1_power/Assign\n",
      "beta1_power/read\n",
      "beta2_power/initial_value\n",
      "beta2_power\n",
      "beta2_power/Assign\n",
      "beta2_power/read\n",
      "W1/Adam/Initializer/zeros/shape_as_tensor\n",
      "W1/Adam/Initializer/zeros/Const\n",
      "W1/Adam/Initializer/zeros\n",
      "W1/Adam\n",
      "W1/Adam/Assign\n",
      "W1/Adam/read\n",
      "W1/Adam_1/Initializer/zeros/shape_as_tensor\n",
      "W1/Adam_1/Initializer/zeros/Const\n",
      "W1/Adam_1/Initializer/zeros\n",
      "W1/Adam_1\n",
      "W1/Adam_1/Assign\n",
      "W1/Adam_1/read\n",
      "b1/Adam/Initializer/zeros\n",
      "b1/Adam\n",
      "b1/Adam/Assign\n",
      "b1/Adam/read\n",
      "b1/Adam_1/Initializer/zeros\n",
      "b1/Adam_1\n",
      "b1/Adam_1/Assign\n",
      "b1/Adam_1/read\n",
      "W2/Adam/Initializer/zeros/shape_as_tensor\n",
      "W2/Adam/Initializer/zeros/Const\n",
      "W2/Adam/Initializer/zeros\n",
      "W2/Adam\n",
      "W2/Adam/Assign\n",
      "W2/Adam/read\n",
      "W2/Adam_1/Initializer/zeros/shape_as_tensor\n",
      "W2/Adam_1/Initializer/zeros/Const\n",
      "W2/Adam_1/Initializer/zeros\n",
      "W2/Adam_1\n",
      "W2/Adam_1/Assign\n",
      "W2/Adam_1/read\n",
      "b2/Adam/Initializer/zeros\n",
      "b2/Adam\n",
      "b2/Adam/Assign\n",
      "b2/Adam/read\n",
      "b2/Adam_1/Initializer/zeros\n",
      "b2/Adam_1\n",
      "b2/Adam_1/Assign\n",
      "b2/Adam_1/read\n",
      "W3/Adam/Initializer/zeros\n",
      "W3/Adam\n",
      "W3/Adam/Assign\n",
      "W3/Adam/read\n",
      "W3/Adam_1/Initializer/zeros\n",
      "W3/Adam_1\n",
      "W3/Adam_1/Assign\n",
      "W3/Adam_1/read\n",
      "b3/Adam/Initializer/zeros\n",
      "b3/Adam\n",
      "b3/Adam/Assign\n",
      "b3/Adam/read\n",
      "b3/Adam_1/Initializer/zeros\n",
      "b3/Adam_1\n",
      "b3/Adam_1/Assign\n",
      "b3/Adam_1/read\n",
      "Adam/learning_rate\n",
      "Adam/beta1\n",
      "Adam/beta2\n",
      "Adam/epsilon\n",
      "Adam/update_W1/ApplyAdam\n",
      "Adam/update_b1/ApplyAdam\n",
      "Adam/update_W2/ApplyAdam\n",
      "Adam/update_b2/ApplyAdam\n",
      "Adam/update_W3/ApplyAdam\n",
      "Adam/update_b3/ApplyAdam\n",
      "Adam/mul\n",
      "Adam/Assign\n",
      "Adam/mul_1\n",
      "Adam/Assign_1\n",
      "Adam\n",
      "init\n",
      "ArgMax/dimension\n",
      "ArgMax\n",
      "ArgMax_1/dimension\n",
      "ArgMax_1\n",
      "Equal\n",
      "Cast\n",
      "Const_1\n",
      "Mean_1\n",
      "save/filename/input\n",
      "save/filename\n",
      "save/Const\n",
      "save/SaveV2/tensor_names\n",
      "save/SaveV2/shape_and_slices\n",
      "save/SaveV2\n",
      "save/control_dependency\n",
      "save/RestoreV2/tensor_names\n",
      "save/RestoreV2/shape_and_slices\n",
      "save/RestoreV2\n",
      "save/Assign\n",
      "save/Assign_1\n",
      "save/Assign_2\n",
      "save/Assign_3\n",
      "save/Assign_4\n",
      "save/Assign_5\n",
      "save/Assign_6\n",
      "save/Assign_7\n",
      "save/Assign_8\n",
      "save/Assign_9\n",
      "save/Assign_10\n",
      "save/Assign_11\n",
      "save/Assign_12\n",
      "save/Assign_13\n",
      "save/Assign_14\n",
      "save/Assign_15\n",
      "save/Assign_16\n",
      "save/Assign_17\n",
      "save/Assign_18\n",
      "save/Assign_19\n",
      "save/restore_all\n"
     ]
    }
   ],
   "source": [
    "# delete the current graph\n",
    "tf.reset_default_graph()\n",
    "\n",
    "# import the graph from the file\n",
    "imported_graph = tf.train.import_meta_graph('TensorFlow-first-network.meta')\n",
    "\n",
    "# list all the tensors in the graph\n",
    "for tensor in tf.get_default_graph().get_operations():\n",
    "    print (tensor.name)"
   ]
  },
  {
   "cell_type": "markdown",
   "metadata": {},
   "source": [
    "`tf.train.Saver()` saves the variables with the TensorFlow name. Now that we have the imported graph, we know that we are interested in W1, W2, W3 and b1, b2, b3 tensors, we can restore them from parameters:"
   ]
  },
  {
   "cell_type": "code",
   "execution_count": 28,
   "metadata": {},
   "outputs": [
    {
     "name": "stdout",
     "output_type": "stream",
     "text": [
      "INFO:tensorflow:Restoring parameters from ./TensorFlow-first-network\n"
     ]
    }
   ],
   "source": [
    "tf.reset_default_graph()\n",
    "with tf.Session() as sess:\n",
    "\n",
    "    ## Load the entire model previuosly saved in a checkpoint\n",
    "    the_Saver = tf.train.import_meta_graph('TensorFlow-first-network' + '.meta')\n",
    "    the_Saver.restore(sess, './TensorFlow-first-network')\n",
    "\n",
    "    W1,b1,W2,b2,W3,b3 = sess.run(['W1:0', 'b1:0','W2:0','b2:0', 'W3:0','b3:0'])\n",
    "    parameters = {\"W1\": W1,\n",
    "              \"b1\": b1,\n",
    "              \"W2\": W2,\n",
    "              \"b2\": b2,\n",
    "              \"W3\": W3,\n",
    "              \"b3\": b3}\n",
    "    #print(\"W1 = \", parameters[\"W1\"])\n",
    "    #print(\"b1 = \", parameters[\"b1\"])\n",
    "    #print(\"W2 = \", parameters[\"W2\"])\n",
    "    #print(\"b2 = \", parameters[\"b2\"])\n",
    "    #print(\"W3 = \", parameters[\"W3\"])\n",
    "    #print(\"b3 = \", parameters[\"b3\"])"
   ]
  },
  {
   "cell_type": "markdown",
   "metadata": {},
   "source": [
    "Try again:"
   ]
  },
  {
   "cell_type": "code",
   "execution_count": 32,
   "metadata": {},
   "outputs": [
    {
     "data": {
      "text/plain": [
       "'1'"
      ]
     },
     "execution_count": 32,
     "metadata": {},
     "output_type": "execute_result"
    }
   ],
   "source": [
    "predict(X, parameters)"
   ]
  },
  {
   "cell_type": "code",
   "execution_count": null,
   "metadata": {},
   "outputs": [],
   "source": []
  }
 ],
 "metadata": {
  "kernelspec": {
   "display_name": "Python 3",
   "language": "python",
   "name": "python3"
  },
  "language_info": {
   "codemirror_mode": {
    "name": "ipython",
    "version": 3
   },
   "file_extension": ".py",
   "mimetype": "text/x-python",
   "name": "python",
   "nbconvert_exporter": "python",
   "pygments_lexer": "ipython3",
   "version": "3.7.2"
  }
 },
 "nbformat": 4,
 "nbformat_minor": 2
}
